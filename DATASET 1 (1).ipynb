{
 "cells": [
  {
   "cell_type": "markdown",
   "id": "0740e373",
   "metadata": {},
   "source": [
    "# ENTROPY DATASET 1"
   ]
  },
  {
   "cell_type": "markdown",
   "id": "f3b394be",
   "metadata": {},
   "source": [
    "THIS ENTROPY DATASET 1 CONTAINS 167 VALUES AND 15 ATTRIBUTES"
   ]
  },
  {
   "cell_type": "markdown",
   "id": "5ce58e87",
   "metadata": {},
   "source": [
    "#### IMPORTING LIBRARIES"
   ]
  },
  {
   "cell_type": "code",
   "execution_count": 177,
   "id": "4eb504cb",
   "metadata": {
    "scrolled": true
   },
   "outputs": [],
   "source": [
    "import pandas as pd\n",
    "import numpy as np\n",
    "import matplotlib.pyplot as plt\n",
    "import seaborn as sns\n",
    "from sklearn.preprocessing import LabelEncoder\n",
    "from sklearn import preprocessing\n",
    "from sklearn.svm import SVC\n",
    "from sklearn import metrics\n",
    "from xgboost import XGBClassifier\n",
    "from sklearn.ensemble import RandomForestClassifier\n",
    "from sklearn.tree import DecisionTreeClassifier\n",
    "from sklearn.linear_model import LogisticRegression\n",
    "from sklearn.model_selection import GridSearchCV\n",
    "from sklearn.linear_model import LogisticRegression\n",
    "from sklearn.neighbors import KNeighborsClassifier\n",
    "from sklearn import ensemble\n",
    "from sklearn.ensemble import ExtraTreesClassifier\n",
    "from sklearn.tree import ExtraTreeClassifier\n",
    "from sklearn.tree import DecisionTreeClassifier\n",
    "from sklearn.ensemble import GradientBoostingClassifier\n",
    "from sklearn.ensemble import BaggingClassifier\n",
    "from sklearn.ensemble import AdaBoostClassifier\n",
    "from sklearn.naive_bayes import GaussianNB\n",
    "from lightgbm import LGBMClassifier\n",
    "from sklearn.preprocessing import StandardScaler\n",
    "from sklearn import feature_selection\n",
    "from sklearn import model_selection\n",
    "from sklearn.metrics import roc_curve, auc\n",
    "import warnings\n",
    "warnings.filterwarnings('ignore')"
   ]
  },
  {
   "cell_type": "markdown",
   "id": "a8a5e5ea",
   "metadata": {},
   "source": [
    "#### LOADING THE ENTROPY DATASET1"
   ]
  },
  {
   "cell_type": "code",
   "execution_count": 178,
   "id": "b94b7c75",
   "metadata": {
    "scrolled": true
   },
   "outputs": [],
   "source": [
    "df1 = pd.read_csv(r'C:\\Users\\swetha\\Desktop\\swe1.csv')\n",
    "\n"
   ]
  },
  {
   "cell_type": "markdown",
   "id": "3d063651",
   "metadata": {},
   "source": [
    "#### CHANGING THE ATTRIBUTES NAME"
   ]
  },
  {
   "cell_type": "code",
   "execution_count": 179,
   "id": "e250f391",
   "metadata": {
    "scrolled": true
   },
   "outputs": [
    {
     "name": "stdout",
     "output_type": "stream",
     "text": [
      "(167, 15)\n"
     ]
    },
    {
     "data": {
      "text/html": [
       "<div>\n",
       "<style scoped>\n",
       "    .dataframe tbody tr th:only-of-type {\n",
       "        vertical-align: middle;\n",
       "    }\n",
       "\n",
       "    .dataframe tbody tr th {\n",
       "        vertical-align: top;\n",
       "    }\n",
       "\n",
       "    .dataframe thead th {\n",
       "        text-align: right;\n",
       "    }\n",
       "</style>\n",
       "<table border=\"1\" class=\"dataframe\">\n",
       "  <thead>\n",
       "    <tr style=\"text-align: right;\">\n",
       "      <th></th>\n",
       "      <th>Group</th>\n",
       "      <th>Visit</th>\n",
       "      <th>MR Delay</th>\n",
       "      <th>Gender</th>\n",
       "      <th>Dominant_Hand</th>\n",
       "      <th>Age</th>\n",
       "      <th>Years_of_Education</th>\n",
       "      <th>Socioeconomic_Status</th>\n",
       "      <th>Mini_Mental_State_Examination</th>\n",
       "      <th>Clinical_Dementia_Rating</th>\n",
       "      <th>Estimated_Total_Intracranial_Volume</th>\n",
       "      <th>Normalize_Whole_Brain_Volume</th>\n",
       "      <th>Atlas_Scaling_Factor</th>\n",
       "    </tr>\n",
       "  </thead>\n",
       "  <tbody>\n",
       "    <tr>\n",
       "      <th>0</th>\n",
       "      <td>Demented</td>\n",
       "      <td>4</td>\n",
       "      <td>1933</td>\n",
       "      <td>F</td>\n",
       "      <td>R</td>\n",
       "      <td>92</td>\n",
       "      <td>14</td>\n",
       "      <td>1</td>\n",
       "      <td>27</td>\n",
       "      <td>0.5</td>\n",
       "      <td>1423</td>\n",
       "      <td>0.696</td>\n",
       "      <td>1.234</td>\n",
       "    </tr>\n",
       "    <tr>\n",
       "      <th>1</th>\n",
       "      <td>Demented</td>\n",
       "      <td>2</td>\n",
       "      <td>756</td>\n",
       "      <td>M</td>\n",
       "      <td>R</td>\n",
       "      <td>82</td>\n",
       "      <td>20</td>\n",
       "      <td>1</td>\n",
       "      <td>28</td>\n",
       "      <td>0.5</td>\n",
       "      <td>1606</td>\n",
       "      <td>0.677</td>\n",
       "      <td>1.093</td>\n",
       "    </tr>\n",
       "    <tr>\n",
       "      <th>2</th>\n",
       "      <td>Demented</td>\n",
       "      <td>3</td>\n",
       "      <td>1563</td>\n",
       "      <td>M</td>\n",
       "      <td>R</td>\n",
       "      <td>84</td>\n",
       "      <td>20</td>\n",
       "      <td>1</td>\n",
       "      <td>26</td>\n",
       "      <td>0.5</td>\n",
       "      <td>1597</td>\n",
       "      <td>0.666</td>\n",
       "      <td>1.099</td>\n",
       "    </tr>\n",
       "    <tr>\n",
       "      <th>3</th>\n",
       "      <td>Demented</td>\n",
       "      <td>3</td>\n",
       "      <td>1588</td>\n",
       "      <td>F</td>\n",
       "      <td>R</td>\n",
       "      <td>91</td>\n",
       "      <td>12</td>\n",
       "      <td>3</td>\n",
       "      <td>28</td>\n",
       "      <td>0.5</td>\n",
       "      <td>1463</td>\n",
       "      <td>0.696</td>\n",
       "      <td>1.199</td>\n",
       "    </tr>\n",
       "    <tr>\n",
       "      <th>4</th>\n",
       "      <td>Demented</td>\n",
       "      <td>3</td>\n",
       "      <td>1331</td>\n",
       "      <td>F</td>\n",
       "      <td>R</td>\n",
       "      <td>75</td>\n",
       "      <td>16</td>\n",
       "      <td>1</td>\n",
       "      <td>28</td>\n",
       "      <td>0.5</td>\n",
       "      <td>1314</td>\n",
       "      <td>0.760</td>\n",
       "      <td>1.335</td>\n",
       "    </tr>\n",
       "  </tbody>\n",
       "</table>\n",
       "</div>"
      ],
      "text/plain": [
       "      Group  Visit  MR Delay Gender Dominant_Hand  Age  Years_of_Education  \\\n",
       "0  Demented      4      1933      F             R   92                  14   \n",
       "1  Demented      2       756      M             R   82                  20   \n",
       "2  Demented      3      1563      M             R   84                  20   \n",
       "3  Demented      3      1588      F             R   91                  12   \n",
       "4  Demented      3      1331      F             R   75                  16   \n",
       "\n",
       "   Socioeconomic_Status  Mini_Mental_State_Examination  \\\n",
       "0                     1                             27   \n",
       "1                     1                             28   \n",
       "2                     1                             26   \n",
       "3                     3                             28   \n",
       "4                     1                             28   \n",
       "\n",
       "   Clinical_Dementia_Rating  Estimated_Total_Intracranial_Volume  \\\n",
       "0                       0.5                                 1423   \n",
       "1                       0.5                                 1606   \n",
       "2                       0.5                                 1597   \n",
       "3                       0.5                                 1463   \n",
       "4                       0.5                                 1314   \n",
       "\n",
       "   Normalize_Whole_Brain_Volume  Atlas_Scaling_Factor  \n",
       "0                         0.696                 1.234  \n",
       "1                         0.677                 1.093  \n",
       "2                         0.666                 1.099  \n",
       "3                         0.696                 1.199  \n",
       "4                         0.760                 1.335  "
      ]
     },
     "execution_count": 179,
     "metadata": {},
     "output_type": "execute_result"
    }
   ],
   "source": [
    "print(df1.shape)\n",
    "df1.drop([\"Subject ID\",\"MRI ID\"],axis=1,inplace=True)\n",
    "df1.columns = ['Group','Visit','MR Delay','Gender','Dominant_Hand',\n",
    "              'Age','Years_of_Education','Socioeconomic_Status','Mini_Mental_State_Examination',\n",
    "              'Clinical_Dementia_Rating','Estimated_Total_Intracranial_Volume',\n",
    "              'Normalize_Whole_Brain_Volume','Atlas_Scaling_Factor']\n",
    "df1.head()"
   ]
  },
  {
   "cell_type": "markdown",
   "id": "c4dbd4cd",
   "metadata": {},
   "source": [
    "#### DESCRIBING THE DATA"
   ]
  },
  {
   "cell_type": "code",
   "execution_count": 180,
   "id": "0ba75acd",
   "metadata": {
    "scrolled": true
   },
   "outputs": [
    {
     "data": {
      "text/html": [
       "<div>\n",
       "<style scoped>\n",
       "    .dataframe tbody tr th:only-of-type {\n",
       "        vertical-align: middle;\n",
       "    }\n",
       "\n",
       "    .dataframe tbody tr th {\n",
       "        vertical-align: top;\n",
       "    }\n",
       "\n",
       "    .dataframe thead th {\n",
       "        text-align: right;\n",
       "    }\n",
       "</style>\n",
       "<table border=\"1\" class=\"dataframe\">\n",
       "  <thead>\n",
       "    <tr style=\"text-align: right;\">\n",
       "      <th></th>\n",
       "      <th>count</th>\n",
       "      <th>mean</th>\n",
       "      <th>std</th>\n",
       "      <th>min</th>\n",
       "      <th>25%</th>\n",
       "      <th>50%</th>\n",
       "      <th>75%</th>\n",
       "      <th>max</th>\n",
       "    </tr>\n",
       "  </thead>\n",
       "  <tbody>\n",
       "    <tr>\n",
       "      <th>Visit</th>\n",
       "      <td>167.0</td>\n",
       "      <td>1.850299</td>\n",
       "      <td>0.861693</td>\n",
       "      <td>1.000</td>\n",
       "      <td>1.0000</td>\n",
       "      <td>2.000</td>\n",
       "      <td>2.0000</td>\n",
       "      <td>5.000</td>\n",
       "    </tr>\n",
       "    <tr>\n",
       "      <th>MR Delay</th>\n",
       "      <td>167.0</td>\n",
       "      <td>557.550898</td>\n",
       "      <td>595.346145</td>\n",
       "      <td>0.000</td>\n",
       "      <td>0.0000</td>\n",
       "      <td>539.000</td>\n",
       "      <td>800.0000</td>\n",
       "      <td>2639.000</td>\n",
       "    </tr>\n",
       "    <tr>\n",
       "      <th>Age</th>\n",
       "      <td>167.0</td>\n",
       "      <td>76.838323</td>\n",
       "      <td>7.068782</td>\n",
       "      <td>61.000</td>\n",
       "      <td>72.0000</td>\n",
       "      <td>76.000</td>\n",
       "      <td>82.0000</td>\n",
       "      <td>98.000</td>\n",
       "    </tr>\n",
       "    <tr>\n",
       "      <th>Years_of_Education</th>\n",
       "      <td>167.0</td>\n",
       "      <td>13.904192</td>\n",
       "      <td>2.937570</td>\n",
       "      <td>6.000</td>\n",
       "      <td>12.0000</td>\n",
       "      <td>14.000</td>\n",
       "      <td>16.0000</td>\n",
       "      <td>20.000</td>\n",
       "    </tr>\n",
       "    <tr>\n",
       "      <th>Socioeconomic_Status</th>\n",
       "      <td>167.0</td>\n",
       "      <td>2.335329</td>\n",
       "      <td>1.425291</td>\n",
       "      <td>0.000</td>\n",
       "      <td>1.0000</td>\n",
       "      <td>2.000</td>\n",
       "      <td>4.0000</td>\n",
       "      <td>5.000</td>\n",
       "    </tr>\n",
       "    <tr>\n",
       "      <th>Mini_Mental_State_Examination</th>\n",
       "      <td>167.0</td>\n",
       "      <td>24.694611</td>\n",
       "      <td>5.172579</td>\n",
       "      <td>0.000</td>\n",
       "      <td>22.0000</td>\n",
       "      <td>26.000</td>\n",
       "      <td>28.0000</td>\n",
       "      <td>30.000</td>\n",
       "    </tr>\n",
       "    <tr>\n",
       "      <th>Clinical_Dementia_Rating</th>\n",
       "      <td>167.0</td>\n",
       "      <td>0.649701</td>\n",
       "      <td>0.282603</td>\n",
       "      <td>0.500</td>\n",
       "      <td>0.5000</td>\n",
       "      <td>0.500</td>\n",
       "      <td>1.0000</td>\n",
       "      <td>2.000</td>\n",
       "    </tr>\n",
       "    <tr>\n",
       "      <th>Estimated_Total_Intracranial_Volume</th>\n",
       "      <td>167.0</td>\n",
       "      <td>1489.694611</td>\n",
       "      <td>171.785055</td>\n",
       "      <td>1143.000</td>\n",
       "      <td>1361.0000</td>\n",
       "      <td>1477.000</td>\n",
       "      <td>1593.5000</td>\n",
       "      <td>1957.000</td>\n",
       "    </tr>\n",
       "    <tr>\n",
       "      <th>Normalize_Whole_Brain_Volume</th>\n",
       "      <td>167.0</td>\n",
       "      <td>0.716144</td>\n",
       "      <td>0.032238</td>\n",
       "      <td>0.646</td>\n",
       "      <td>0.6940</td>\n",
       "      <td>0.711</td>\n",
       "      <td>0.7370</td>\n",
       "      <td>0.806</td>\n",
       "    </tr>\n",
       "    <tr>\n",
       "      <th>Atlas_Scaling_Factor</th>\n",
       "      <td>167.0</td>\n",
       "      <td>1.193431</td>\n",
       "      <td>0.135363</td>\n",
       "      <td>0.897</td>\n",
       "      <td>1.1015</td>\n",
       "      <td>1.188</td>\n",
       "      <td>1.2895</td>\n",
       "      <td>1.535</td>\n",
       "    </tr>\n",
       "  </tbody>\n",
       "</table>\n",
       "</div>"
      ],
      "text/plain": [
       "                                     count         mean         std       min  \\\n",
       "Visit                                167.0     1.850299    0.861693     1.000   \n",
       "MR Delay                             167.0   557.550898  595.346145     0.000   \n",
       "Age                                  167.0    76.838323    7.068782    61.000   \n",
       "Years_of_Education                   167.0    13.904192    2.937570     6.000   \n",
       "Socioeconomic_Status                 167.0     2.335329    1.425291     0.000   \n",
       "Mini_Mental_State_Examination        167.0    24.694611    5.172579     0.000   \n",
       "Clinical_Dementia_Rating             167.0     0.649701    0.282603     0.500   \n",
       "Estimated_Total_Intracranial_Volume  167.0  1489.694611  171.785055  1143.000   \n",
       "Normalize_Whole_Brain_Volume         167.0     0.716144    0.032238     0.646   \n",
       "Atlas_Scaling_Factor                 167.0     1.193431    0.135363     0.897   \n",
       "\n",
       "                                           25%       50%        75%       max  \n",
       "Visit                                   1.0000     2.000     2.0000     5.000  \n",
       "MR Delay                                0.0000   539.000   800.0000  2639.000  \n",
       "Age                                    72.0000    76.000    82.0000    98.000  \n",
       "Years_of_Education                     12.0000    14.000    16.0000    20.000  \n",
       "Socioeconomic_Status                    1.0000     2.000     4.0000     5.000  \n",
       "Mini_Mental_State_Examination          22.0000    26.000    28.0000    30.000  \n",
       "Clinical_Dementia_Rating                0.5000     0.500     1.0000     2.000  \n",
       "Estimated_Total_Intracranial_Volume  1361.0000  1477.000  1593.5000  1957.000  \n",
       "Normalize_Whole_Brain_Volume            0.6940     0.711     0.7370     0.806  \n",
       "Atlas_Scaling_Factor                    1.1015     1.188     1.2895     1.535  "
      ]
     },
     "execution_count": 180,
     "metadata": {},
     "output_type": "execute_result"
    }
   ],
   "source": [
    "df1.describe().T"
   ]
  },
  {
   "cell_type": "markdown",
   "id": "dac39c69",
   "metadata": {},
   "source": [
    "#### CORRELATION"
   ]
  },
  {
   "cell_type": "code",
   "execution_count": 181,
   "id": "1d950f4b",
   "metadata": {
    "scrolled": false
   },
   "outputs": [
    {
     "data": {
      "image/png": "[encoded data removed]",
      "text/plain": [
       "<Figure size 720x360 with 2 Axes>"
      ]
     },
     "metadata": {
      "needs_background": "light"
     },
     "output_type": "display_data"
    }
   ],
   "source": [
    "plt.figure(figsize=(10,5))\n",
    "cor = df1.corr()\n",
    "sns.heatmap(cor, annot=True, cmap=plt.cm.Reds)\n",
    "plt.show()"
   ]
  },
  {
   "cell_type": "code",
   "execution_count": 182,
   "id": "652e666e",
   "metadata": {
    "scrolled": true
   },
   "outputs": [
    {
     "name": "stdout",
     "output_type": "stream",
     "text": [
      "Requirement already satisfied: category_encoders in c:\\users\\swetha\\anaconda3\\lib\\site-packages (2.3.0)Note: you may need to restart the kernel to use updated packages.\n",
      "\n",
      "Requirement already satisfied: pandas>=0.21.1 in c:\\users\\swetha\\anaconda3\\lib\\site-packages (from category_encoders) (1.2.4)\n",
      "Requirement already satisfied: numpy>=1.14.0 in c:\\users\\swetha\\anaconda3\\lib\\site-packages (from category_encoders) (1.20.1)\n",
      "Requirement already satisfied: statsmodels>=0.9.0 in c:\\users\\swetha\\anaconda3\\lib\\site-packages (from category_encoders) (0.12.2)\n",
      "Requirement already satisfied: patsy>=0.5.1 in c:\\users\\swetha\\anaconda3\\lib\\site-packages (from category_encoders) (0.5.1)\n",
      "Requirement already satisfied: scikit-learn>=0.20.0 in c:\\users\\swetha\\anaconda3\\lib\\site-packages (from category_encoders) (0.24.1)\n",
      "Requirement already satisfied: scipy>=1.0.0 in c:\\users\\swetha\\anaconda3\\lib\\site-packages (from category_encoders) (1.6.2)\n",
      "Requirement already satisfied: python-dateutil>=2.7.3 in c:\\users\\swetha\\anaconda3\\lib\\site-packages (from pandas>=0.21.1->category_encoders) (2.8.1)\n",
      "Requirement already satisfied: pytz>=2017.3 in c:\\users\\swetha\\anaconda3\\lib\\site-packages (from pandas>=0.21.1->category_encoders) (2021.1)\n",
      "Requirement already satisfied: six in c:\\users\\swetha\\anaconda3\\lib\\site-packages (from patsy>=0.5.1->category_encoders) (1.15.0)\n",
      "Requirement already satisfied: threadpoolctl>=2.0.0 in c:\\users\\swetha\\anaconda3\\lib\\site-packages (from scikit-learn>=0.20.0->category_encoders) (2.1.0)\n",
      "Requirement already satisfied: joblib>=0.11 in c:\\users\\swetha\\anaconda3\\lib\\site-packages (from scikit-learn>=0.20.0->category_encoders) (1.0.1)\n"
     ]
    }
   ],
   "source": [
    "pip install category_encoders"
   ]
  },
  {
   "cell_type": "markdown",
   "id": "818bbf3e",
   "metadata": {},
   "source": [
    "#### CONVERTING CATEGORICAL DATA INTO NUMERICAL DATA"
   ]
  },
  {
   "cell_type": "code",
   "execution_count": 183,
   "id": "5c346cfa",
   "metadata": {
    "scrolled": true
   },
   "outputs": [
    {
     "data": {
      "text/html": [
       "<div>\n",
       "<style scoped>\n",
       "    .dataframe tbody tr th:only-of-type {\n",
       "        vertical-align: middle;\n",
       "    }\n",
       "\n",
       "    .dataframe tbody tr th {\n",
       "        vertical-align: top;\n",
       "    }\n",
       "\n",
       "    .dataframe thead th {\n",
       "        text-align: right;\n",
       "    }\n",
       "</style>\n",
       "<table border=\"1\" class=\"dataframe\">\n",
       "  <thead>\n",
       "    <tr style=\"text-align: right;\">\n",
       "      <th></th>\n",
       "      <th>Group</th>\n",
       "      <th>Visit</th>\n",
       "      <th>MR Delay</th>\n",
       "      <th>Gender</th>\n",
       "      <th>Dominant_Hand</th>\n",
       "      <th>Age</th>\n",
       "      <th>Years_of_Education</th>\n",
       "      <th>Socioeconomic_Status</th>\n",
       "      <th>Mini_Mental_State_Examination</th>\n",
       "      <th>Clinical_Dementia_Rating</th>\n",
       "      <th>Estimated_Total_Intracranial_Volume</th>\n",
       "      <th>Normalize_Whole_Brain_Volume</th>\n",
       "      <th>Atlas_Scaling_Factor</th>\n",
       "    </tr>\n",
       "  </thead>\n",
       "  <tbody>\n",
       "    <tr>\n",
       "      <th>0</th>\n",
       "      <td>0</td>\n",
       "      <td>3</td>\n",
       "      <td>89</td>\n",
       "      <td>0</td>\n",
       "      <td>0</td>\n",
       "      <td>30</td>\n",
       "      <td>5</td>\n",
       "      <td>1</td>\n",
       "      <td>15</td>\n",
       "      <td>0</td>\n",
       "      <td>55</td>\n",
       "      <td>28</td>\n",
       "      <td>83</td>\n",
       "    </tr>\n",
       "    <tr>\n",
       "      <th>1</th>\n",
       "      <td>0</td>\n",
       "      <td>1</td>\n",
       "      <td>49</td>\n",
       "      <td>1</td>\n",
       "      <td>0</td>\n",
       "      <td>20</td>\n",
       "      <td>10</td>\n",
       "      <td>1</td>\n",
       "      <td>16</td>\n",
       "      <td>0</td>\n",
       "      <td>109</td>\n",
       "      <td>12</td>\n",
       "      <td>32</td>\n",
       "    </tr>\n",
       "    <tr>\n",
       "      <th>2</th>\n",
       "      <td>0</td>\n",
       "      <td>2</td>\n",
       "      <td>83</td>\n",
       "      <td>1</td>\n",
       "      <td>0</td>\n",
       "      <td>22</td>\n",
       "      <td>10</td>\n",
       "      <td>1</td>\n",
       "      <td>14</td>\n",
       "      <td>0</td>\n",
       "      <td>106</td>\n",
       "      <td>7</td>\n",
       "      <td>35</td>\n",
       "    </tr>\n",
       "    <tr>\n",
       "      <th>3</th>\n",
       "      <td>0</td>\n",
       "      <td>2</td>\n",
       "      <td>84</td>\n",
       "      <td>0</td>\n",
       "      <td>0</td>\n",
       "      <td>29</td>\n",
       "      <td>3</td>\n",
       "      <td>3</td>\n",
       "      <td>16</td>\n",
       "      <td>0</td>\n",
       "      <td>68</td>\n",
       "      <td>28</td>\n",
       "      <td>69</td>\n",
       "    </tr>\n",
       "    <tr>\n",
       "      <th>4</th>\n",
       "      <td>0</td>\n",
       "      <td>2</td>\n",
       "      <td>77</td>\n",
       "      <td>0</td>\n",
       "      <td>0</td>\n",
       "      <td>13</td>\n",
       "      <td>7</td>\n",
       "      <td>1</td>\n",
       "      <td>16</td>\n",
       "      <td>0</td>\n",
       "      <td>23</td>\n",
       "      <td>74</td>\n",
       "      <td>111</td>\n",
       "    </tr>\n",
       "  </tbody>\n",
       "</table>\n",
       "</div>"
      ],
      "text/plain": [
       "   Group  Visit  MR Delay  Gender  Dominant_Hand  Age  Years_of_Education  \\\n",
       "0      0      3        89       0              0   30                   5   \n",
       "1      0      1        49       1              0   20                  10   \n",
       "2      0      2        83       1              0   22                  10   \n",
       "3      0      2        84       0              0   29                   3   \n",
       "4      0      2        77       0              0   13                   7   \n",
       "\n",
       "   Socioeconomic_Status  Mini_Mental_State_Examination  \\\n",
       "0                     1                             15   \n",
       "1                     1                             16   \n",
       "2                     1                             14   \n",
       "3                     3                             16   \n",
       "4                     1                             16   \n",
       "\n",
       "   Clinical_Dementia_Rating  Estimated_Total_Intracranial_Volume  \\\n",
       "0                         0                                   55   \n",
       "1                         0                                  109   \n",
       "2                         0                                  106   \n",
       "3                         0                                   68   \n",
       "4                         0                                   23   \n",
       "\n",
       "   Normalize_Whole_Brain_Volume  Atlas_Scaling_Factor  \n",
       "0                            28                    83  \n",
       "1                            12                    32  \n",
       "2                             7                    35  \n",
       "3                            28                    69  \n",
       "4                            74                   111  "
      ]
     },
     "execution_count": 183,
     "metadata": {},
     "output_type": "execute_result"
    }
   ],
   "source": [
    "import category_encoders as ce\n",
    "df1['Group'] = df1['Group'].replace(['Converted'], ['Demented']) \n",
    "encoder= ce.OrdinalEncoder(cols=['Group'],return_df=True,\n",
    "                           mapping=[{'col':'Group',\n",
    "'mapping':{'Demented':1,'Nondemented':0}}])\n",
    "df1['Gender'] = df1['Gender'].replace(['F','M'], [0,1]) \n",
    "for column in df1.columns:\n",
    "    le = LabelEncoder()\n",
    "    df1[column] = le.fit_transform(df1[column])\n",
    "df1.head()"
   ]
  },
  {
   "cell_type": "markdown",
   "id": "ee1f5592",
   "metadata": {},
   "source": [
    "### PREPARING THE DATA FOR MACHINE LEARNING"
   ]
  },
  {
   "cell_type": "code",
   "execution_count": 184,
   "id": "65973169",
   "metadata": {},
   "outputs": [],
   "source": [
    "from pandas import read_csv\n",
    "from sklearn.preprocessing import Normalizer\n",
    "from sklearn.preprocessing import StandardScaler\n",
    "from sklearn.preprocessing import Binarizer\n",
    "from sklearn.feature_selection import SelectKBest\n",
    "from sklearn.feature_selection import chi2 \n",
    "from sklearn.feature_selection import RFE \n",
    "from sklearn.linear_model import LogisticRegression\n",
    "from sklearn.preprocessing import MinMaxScaler\n",
    "from sklearn.decomposition import PCA\n"
   ]
  },
  {
   "cell_type": "code",
   "execution_count": 185,
   "id": "b7782ccc",
   "metadata": {},
   "outputs": [],
   "source": [
    "feature_col_names = [\"Gender\",\n",
    "              \"Age\",\"Years_of_Education\",\"Socioeconomic_Status\",\"Mini_Mental_State_Examination\",\n",
    "              \"Clinical_Dementia_Rating\",\"Estimated_Total_Intracranial_Volume\",\n",
    "              \"Normalize_Whole_Brain_Volume\",\"Atlas_Scaling_Factor\"]\n",
    "predicted_class_names = ['Group']\n",
    "X = df1[feature_col_names].values\n",
    "y = df1[predicted_class_names].values"
   ]
  },
  {
   "cell_type": "markdown",
   "id": "82382bb8",
   "metadata": {},
   "source": [
    "#### NORMALIZATION(NORMALIZER METHOD)"
   ]
  },
  {
   "cell_type": "code",
   "execution_count": 186,
   "id": "d9de2c71",
   "metadata": {
    "scrolled": false
   },
   "outputs": [
    {
     "name": "stdout",
     "output_type": "stream",
     "text": [
      "ORIGINAL DATA: \n",
      "\n",
      " [[  0   3  89 ...  55  28  83]\n",
      " [  0   1  49 ... 109  12  32]\n",
      " [  0   2  83 ... 106   7  35]\n",
      " ...\n",
      " [  1   2  93 ... 118  10  23]\n",
      " [  1   1  65 ... 122  42  19]\n",
      " [  1   2  32 ... 136  73   6]]\n",
      "\n",
      "NORMALIZED DATA: \n",
      "\n",
      " [[0.         0.27560076 0.04593346 0.00918669 0.13780038 0.\n",
      "  0.50526805 0.25722737 0.76249543]\n",
      " [0.00851041 0.17020814 0.08510407 0.00851041 0.13616651 0.\n",
      "  0.92763438 0.10212489 0.27233303]\n",
      " [0.00867371 0.19082159 0.08673709 0.00867371 0.12143192 0.\n",
      "  0.91941312 0.06071596 0.30357981]\n",
      " [0.         0.2730024  0.02824163 0.02824163 0.15062201 0.\n",
      "  0.64014355 0.26358852 0.64955743]\n",
      " [0.         0.09480972 0.05105139 0.00729306 0.11668889 0.\n",
      "  0.16774028 0.53968612 0.80952917]\n",
      " [0.         0.20237774 0.07285599 0.00809511 0.09714132 0.\n",
      "  0.11333153 0.13761686 0.95522293]]\n"
     ]
    }
   ],
   "source": [
    "normalized = Normalizer().fit(X).transform(X)\n",
    "print(\"ORIGINAL DATA: \\n\\n\", df1.values)\n",
    "print(\"\\nNORMALIZED DATA: \\n\\n\", normalizedX[0:6,:])"
   ]
  },
  {
   "cell_type": "markdown",
   "id": "e1862ba9",
   "metadata": {},
   "source": [
    "#### STANDARDIZATION(NORMAL DISTRIBUTION)"
   ]
  },
  {
   "cell_type": "code",
   "execution_count": 187,
   "id": "6cb17d2b",
   "metadata": {
    "scrolled": false
   },
   "outputs": [
    {
     "name": "stdout",
     "output_type": "stream",
     "text": [
      "ORIGINAL DATA: \n",
      "\n",
      " [[  0   3  89 ...  55  28  83]\n",
      " [  0   1  49 ... 109  12  32]\n",
      " [  0   2  83 ... 106   7  35]\n",
      " ...\n",
      " [  1   2  93 ... 118  10  23]\n",
      " [  1   1  65 ... 122  42  19]\n",
      " [  1   2  32 ... 136  73   6]]\n",
      "\n",
      "STANDARIZED DATA: \n",
      "\n",
      " [[-1.1628038   2.20131756  0.00234493 -0.93969943  0.48385907 -0.57669797\n",
      "  -0.43338528 -0.66854316  0.46742874]\n",
      " [ 0.85999031  0.75171176  1.96035758 -0.93969943  0.71807491 -0.57669797\n",
      "   0.92318134 -1.37741115 -0.92261685]\n",
      " [ 0.85999031  1.04163292  1.96035758 -0.93969943  0.24964323 -0.57669797\n",
      "   0.84781653 -1.5989324  -0.84084946]\n",
      " [-1.1628038   2.05635698 -0.78086014  0.46774277  0.71807491 -0.57669797\n",
      "  -0.10680442 -0.66854316  0.0858476 ]\n",
      " [-1.1628038  -0.26301231  0.78554999 -0.93969943  0.71807491 -0.57669797\n",
      "  -1.2372766   1.3694523   1.23059102]\n",
      " [-1.1628038   1.47651466  1.56875505 -0.93969943 -0.21878845 -0.57669797\n",
      "  -1.46337104 -1.1558899   1.42138159]]\n"
     ]
    }
   ],
   "source": [
    "standardization = StandardScaler().fit(X).transform(X) \n",
    "print(\"ORIGINAL DATA: \\n\\n\", df1.values)\n",
    "print(\"\\nSTANDARIZED DATA: \\n\\n\",standardization[0:6,:])"
   ]
  },
  {
   "cell_type": "markdown",
   "id": "f13820e0",
   "metadata": {},
   "source": [
    "#### BINARIZATION(TRANSFORM DATA INTO 1 OR 0)"
   ]
  },
  {
   "cell_type": "code",
   "execution_count": 188,
   "id": "0efdaba9",
   "metadata": {
    "scrolled": true
   },
   "outputs": [
    {
     "name": "stdout",
     "output_type": "stream",
     "text": [
      "ORIGINAL DATA:\n",
      "\n",
      " [[  0   3  89 ...  55  28  83]\n",
      " [  0   1  49 ... 109  12  32]\n",
      " [  0   2  83 ... 106   7  35]\n",
      " ...\n",
      " [  1   2  93 ... 118  10  23]\n",
      " [  1   1  65 ... 122  42  19]\n",
      " [  1   2  32 ... 136  73   6]]\n",
      "\n",
      "BINARIZED Data:\n",
      "\n",
      " [[0 1 1 1 1 0 1 1 1]\n",
      " [1 1 1 1 1 0 1 1 1]\n",
      " [1 1 1 1 1 0 1 1 1]\n",
      " [0 1 1 1 1 0 1 1 1]\n",
      " [0 1 1 1 1 0 1 1 1]]\n"
     ]
    }
   ],
   "source": [
    "binarizer = Binarizer (threshold = 0.5).fit(X)\n",
    "binary = binarizer.transform(X)\n",
    "print(\"ORIGINAL DATA:\\n\\n\", df1.values)\n",
    "print(\"\\nBINARIZED Data:\\n\\n\", binary[0:5,:])"
   ]
  },
  {
   "cell_type": "markdown",
   "id": "d389031a",
   "metadata": {},
   "source": [
    "### FEATURE SELECTION"
   ]
  },
  {
   "cell_type": "markdown",
   "id": "a639c3a7",
   "metadata": {},
   "source": [
    "#### UNIVARIATE SELECTION"
   ]
  },
  {
   "cell_type": "code",
   "execution_count": 189,
   "id": "3b4b471c",
   "metadata": {
    "scrolled": false
   },
   "outputs": [
    {
     "name": "stdout",
     "output_type": "stream",
     "text": [
      "Original number of features: 9\n",
      "Reduced number of features: 5\n",
      "Features: [[ 30   0  55  28  83]\n",
      " [ 20   0 109  12  32]\n",
      " [ 22   0 106   7  35]\n",
      " [ 29   0  68  28  69]\n",
      " [ 13   0  23  74 111]\n",
      " [ 25   0  14  17 118]\n",
      " [ 22   0  42  54  94]\n",
      " [ 12   0  55  50  82]\n",
      " [ 13   0  53  56  84]\n",
      " [  9   0  94  85  47]\n",
      " [ 19   0 112  48  29]\n",
      " [ 19   0 110  46  31]\n",
      " [ 22   0 115  26  26]\n",
      " [ 24   0 116   8  25]\n",
      " [  3   0  33  70 103]\n",
      " [ 19   0  86  21  54]\n",
      " [ 17   0 129  39  13]\n",
      " [ 11   0  16  80 116]\n",
      " [ 27   0  49  14  87]\n",
      " [ 13   0 117  60  24]\n",
      " [ 14   0 132  43  10]\n",
      " [ 18   0 121  33  20]\n",
      " [  9   0  39  66  97]\n",
      " [ 11   1  40  53  96]\n",
      " [ 13   1  41  41  95]\n",
      " [  6   0  64  87  73]\n",
      " [  7   0  76  86  63]\n",
      " [  4   0  61  78  76]\n",
      " [  6   0  77  69  62]\n",
      " [ 14   0 107  29  34]\n",
      " [ 15   1 105  28  36]\n",
      " [ 26   0 111   3  30]\n",
      " [ 28   0 115   0  26]\n",
      " [ 10   0 139  47   3]\n",
      " [ 14   0 140  60   2]\n",
      " [ 24   0   9   5 123]\n",
      " [ 25   0  10   1 122]\n",
      " [ 20   0  54  43  84]\n",
      " [ 22   0  59  27  77]\n",
      " [  2   0  97  61  44]\n",
      " [  4   1 102  46  40]\n",
      " [ 28   0  18  14 114]\n",
      " [ 30   0  22  11 112]\n",
      " [ 20   0  73  55  65]\n",
      " [ 23   0  81  46  59]\n",
      " [ 26   0  78  40  62]\n",
      " [ 27   0  80  37  60]\n",
      " [ 19   0   5  64 127]\n",
      " [ 21   0   6  58 126]\n",
      " [ 22   0  21  53 112]\n",
      " [ 24   0  26  51 109]\n",
      " [ 26   0  36  43 100]\n",
      " [ 10   0  63  81  74]\n",
      " [ 11   0  62  72  75]\n",
      " [  6   1  30  19 106]\n",
      " [  7   1  28  13 107]\n",
      " [  9   1  29  14 106]\n",
      " [ 21   0  72  68  66]\n",
      " [ 23   1  78  66  61]\n",
      " [  4   1 120  42  21]\n",
      " [  4   1 124  34  17]\n",
      " [  6   1 126  24  15]\n",
      " [  6   1 128  16  14]\n",
      " [  7   1 122  11  19]\n",
      " [  9   0  66  51  71]\n",
      " [ 10   1  78  27  62]\n",
      " [ 16   0  24  38 111]\n",
      " [ 17   0  19  37 113]\n",
      " [ 18   0  27  27 108]\n",
      " [ 13   0  52  77  85]\n",
      " [ 16   0  49  72  88]\n",
      " [ 18   0  57  61  80]\n",
      " [ 19   0  63  49  74]\n",
      " [ 16   1  67  24  70]\n",
      " [ 19   0  65  26  72]\n",
      " [ 20   0  69  16  69]\n",
      " [  0   1 142  59   0]\n",
      " [  1   0 141  56   1]\n",
      " [ 21   1  43  36  93]\n",
      " [ 22   1  47  27  89]\n",
      " [ 11   0   1  65 131]\n",
      " [ 13   0   0  63 132]\n",
      " [  7   0  61  73  76]\n",
      " [  9   1  84  52  56]\n",
      " [ 11   1  74  28  65]\n",
      " [  4   0  98  53  44]\n",
      " [  6   0 100  43  42]\n",
      " [  7   0  96  51  45]\n",
      " [ 20   0  11  27 121]\n",
      " [ 22   0  12  20 120]\n",
      " [ 31   1  70  17  68]\n",
      " [ 32   2  90   3  51]\n",
      " [ 16   1  73   9  65]\n",
      " [ 18   1  85   4  55]\n",
      " [  8   0  58  25  78]\n",
      " [ 10   1  58  18  79]\n",
      " [  4   0  60  82  77]\n",
      " [  5   0  51  84  86]\n",
      " [ 18   0  71  75  67]\n",
      " [ 21   0  79  68  61]\n",
      " [ 20   0  89  22  52]\n",
      " [ 22   0  87  20  53]\n",
      " [ 24   0  88  15  52]\n",
      " [  8   0 103  28  38]\n",
      " [  9   1 102  19  39]\n",
      " [  8   1  59  50  77]\n",
      " [ 10   1  82  20  58]\n",
      " [ 15   0 108  83  33]\n",
      " [ 17   0 104  83  37]\n",
      " [  1   0  93  57  48]\n",
      " [  3   0  92  31  49]\n",
      " [ 14   0  24  30 111]\n",
      " [ 16   0  32  22 104]\n",
      " [ 11   0  95  52  46]\n",
      " [ 13   0  92  39  49]\n",
      " [ 14   0  25  53 110]\n",
      " [ 16   1  20  40 113]\n",
      " [ 11   0  56  78  81]\n",
      " [ 13   0  48  79  88]\n",
      " [ 14   1  50  45  87]\n",
      " [ 16   2  46  32  90]\n",
      " [  8   0  68  67  70]\n",
      " [  9   0  75  68  64]\n",
      " [  8   0  17  66 115]\n",
      " [  9   0  15  63 117]\n",
      " [ 12   0 113  62  28]\n",
      " [ 13   0 111  61  30]\n",
      " [  5   0  31  77 105]\n",
      " [  6   0  35  58 101]\n",
      " [ 14   0  43  36  93]\n",
      " [ 16   0  44  23  92]\n",
      " [ 19   0  45  21  91]\n",
      " [ 18   1 131  19  11]\n",
      " [ 20   1 130  30  12]\n",
      " [ 11   0  34  48 102]\n",
      " [ 13   1  39  44  97]\n",
      " [ 11   1  13  54 119]\n",
      " [ 13   1  75   2  64]\n",
      " [ 11   0   8  72 124]\n",
      " [ 14   0   7  76 125]\n",
      " [ 14   0 101  36  41]\n",
      " [ 16   1 104  35  38]\n",
      " [ 20   0  91  13  50]\n",
      " [ 22   0  99   6  43]\n",
      " [ 15   1 127  71  14]\n",
      " [ 17   2 125  74  16]\n",
      " [ 16   1  83  41  57]\n",
      " [ 18   1 133  28   9]\n",
      " [ 13   0 137  40   5]\n",
      " [ 17   0 138  32   4]\n",
      " [  8   0 134  64   8]\n",
      " [ 10   0 134  57   8]\n",
      " [ 11   0 135  56   7]\n",
      " [ 17   0  98  42  44]\n",
      " [ 19   0 100  24  42]\n",
      " [ 12   0   4  58 128]\n",
      " [ 13   1   3  64 129]\n",
      " [ 15   1   2  58 130]\n",
      " [ 11   0 114  30  27]\n",
      " [ 13   0 112  28  29]\n",
      " [ 10   0  38  58  98]\n",
      " [ 11   1  37  39  99]\n",
      " [ 18   0 123  42  18]\n",
      " [ 20   0 119  26  22]\n",
      " [ 24   0 118  10  23]\n",
      " [ 21   0 122  42  19]\n",
      " [ 19   0 136  73   6]]\n"
     ]
    }
   ],
   "source": [
    "best_variable = SelectKBest (score_func = chi2, k = 5)\n",
    "features = best_variable.fit(X, y).transform(X)\n",
    "print('Original number of features:', X.shape[1])\n",
    "print('Reduced number of features:', features.shape[1])\n",
    "print('Features:', features)"
   ]
  },
  {
   "cell_type": "markdown",
   "id": "998ed9e9",
   "metadata": {},
   "source": [
    "#### Recursive Elimination of Attributes (RFE)"
   ]
  },
  {
   "cell_type": "code",
   "execution_count": 190,
   "id": "251ca975",
   "metadata": {
    "scrolled": true
   },
   "outputs": [
    {
     "name": "stdout",
     "output_type": "stream",
     "text": [
      "Predictor Variables: Index(['Group', 'Visit', 'MR Delay', 'Gender', 'Dominant_Hand', 'Age',\n",
      "       'Years_of_Education', 'Socioeconomic_Status'],\n",
      "      dtype='object')\n",
      "Selected Variables: [ True False False  True False  True False False False]\n",
      "Attribute Ranking: [1 2 3 1 6 1 5 7 4]\n",
      "Number of Best Attributes: 3\n"
     ]
    }
   ],
   "source": [
    "model = LogisticRegression()\n",
    "rfe = RFE (model, 3) \n",
    "fit = rfe.fit(X, y)\n",
    "print(\"Predictor Variables:\", df1.columns[0:8])\n",
    "print(\"Selected Variables: %s\" % fit.support_)\n",
    "print(\"Attribute Ranking: %s\" % fit.ranking_)\n",
    "print(\"Number of Best Attributes: %d\" % fit.n_features_)"
   ]
  },
  {
   "cell_type": "markdown",
   "id": "a6443d7f",
   "metadata": {},
   "source": [
    "#### Principal Component Analysis (PCA)"
   ]
  },
  {
   "cell_type": "code",
   "execution_count": 191,
   "id": "9f8e6cd7",
   "metadata": {
    "scrolled": true
   },
   "outputs": [
    {
     "name": "stdout",
     "output_type": "stream",
     "text": [
      "Variance: [0.42913558 0.14990964 0.13925244 0.09429352]\n",
      "[[-0.79086838  0.0266964  -0.19946946  0.1408483  -0.01871817  0.00471273\n",
      "  -0.39364509  0.0825312   0.38993302]\n",
      " [ 0.48048385  0.09254246 -0.43059899  0.60798165 -0.02372812 -0.16826213\n",
      "  -0.27909517 -0.1458762   0.27832505]\n",
      " [-0.10450785  0.14323627 -0.1036042   0.08428975 -0.56512505  0.54637506\n",
      "   0.11105153 -0.55548069 -0.10926858]\n",
      " [ 0.01853435  0.62452827  0.16133543 -0.32596171  0.2955236  -0.24480929\n",
      "  -0.16202433 -0.52737575  0.16030566]]\n"
     ]
    }
   ],
   "source": [
    "scaler = MinMaxScaler(feature_range = (0, 1))\n",
    "rescaled = scaler.fit_transform(X) \n",
    "pca = PCA(n_components = 4)\n",
    "fit = pca.fit (rescaled)\n",
    "print(\"Variance: %s\" % fit.explained_variance_ratio_)\n",
    "print(fit.components_)"
   ]
  },
  {
   "cell_type": "markdown",
   "id": "35fe6c53",
   "metadata": {},
   "source": [
    "#### APPLYING MACHINE LEARNING ALGORITHMS"
   ]
  },
  {
   "cell_type": "code",
   "execution_count": 192,
   "id": "2e795e4d",
   "metadata": {
    "scrolled": true
   },
   "outputs": [],
   "source": [
    "from sklearn.model_selection import train_test_split\n",
    "\n",
    "feature_col_names = [\"Gender\",\n",
    "              \"Age\",\"Years_of_Education\",\"Socioeconomic_Status\",\"Mini_Mental_State_Examination\",\n",
    "              \"Clinical_Dementia_Rating\",\"Estimated_Total_Intracranial_Volume\",\n",
    "              \"Normalize_Whole_Brain_Volume\",\"Atlas_Scaling_Factor\"]\n",
    "predicted_class_names = ['Group']\n",
    "X = df1[feature_col_names].values\n",
    "y = df1[predicted_class_names].values\n",
    "X_train, X_test, y_train, y_test = train_test_split(X, y, test_size=0.30, random_state=42)"
   ]
  },
  {
   "cell_type": "code",
   "execution_count": 193,
   "id": "a983f302",
   "metadata": {
    "scrolled": true
   },
   "outputs": [],
   "source": [
    "def plot_confusion_metrix(y_test,model_test):\n",
    "    cm = metrics.confusion_matrix(y_test, model_test)\n",
    "    plt.figure(1)\n",
    "    plt.clf()\n",
    "    plt.imshow(cm, interpolation='nearest', cmap=plt.cm.Wistia)\n",
    "    classNames = ['Nondemented','Demented']\n",
    "    plt.title('Confusion Matrix')\n",
    "    plt.ylabel('True label')\n",
    "    plt.xlabel('Predicted label')\n",
    "    tick_marks = np.arange(len(classNames))\n",
    "    plt.xticks(tick_marks, classNames)\n",
    "    plt.yticks(tick_marks, classNames)\n",
    "    s = [['TN','FP'], ['FN', 'TP']]\n",
    "    for i in range(2):\n",
    "        for j in range(2):\n",
    "            plt.text(j,i, str(s[i][j])+\" = \"+str(cm[i][j]))\n",
    "    plt.show()"
   ]
  },
  {
   "cell_type": "code",
   "execution_count": 194,
   "id": "107a464e",
   "metadata": {
    "scrolled": true
   },
   "outputs": [],
   "source": [
    "def report_performance(model):\n",
    "    model_test = model.predict(X_test)\n",
    "    print(\"\\n\\n\\nConfusion Matrix:\")\n",
    "    print(\"{0}\".format(metrics.confusion_matrix(y_test, model_test)))\n",
    "    plot_confusion_metrix(y_test, model_test)\n",
    "    print(\"\\n\\n\\nClassification Report: \")\n",
    "    print(metrics.classification_report(y_test, model_test))\n"
   ]
  },
  {
   "cell_type": "code",
   "execution_count": 195,
   "id": "66eeffd3",
   "metadata": {
    "scrolled": true
   },
   "outputs": [],
   "source": [
    "total_fpr = {}\n",
    "total_tpr = {}\n",
    "def roc_curves(model):\n",
    "    predictions_test = model.predict(X_test)\n",
    "    fpr, tpr, thresholds = roc_curve(predictions_test,y_test)\n",
    "    roc_auc = auc(fpr, tpr)\n",
    "    total_fpr[str((str(model).split('(')[0]))] = fpr\n",
    "    total_tpr[str((str(model).split('(')[0]))] = tpr\n",
    "    plt.figure()\n",
    "    plt.plot(fpr, tpr, color='darkorange', lw=1, label='ROC curve (area = %0.2f)' % roc_auc)\n",
    "    plt.plot([0, 1], [0, 1], color='navy', lw=2, linestyle='--')\n",
    "    plt.xlim([0.0, 1.0])\n",
    "    plt.ylim([0.0, 1.05])\n",
    "    plt.xlabel('False Positive Rate')\n",
    "    plt.ylabel('True Positive Rate')\n",
    "    plt.title('Receiver operating characteristic')\n",
    "    plt.legend(loc=\"lower right\")\n",
    "    plt.show()"
   ]
  },
  {
   "cell_type": "code",
   "execution_count": 196,
   "id": "3c054c0e",
   "metadata": {
    "scrolled": true
   },
   "outputs": [],
   "source": [
    "total_accuracy = {}\n",
    "def accuracy(model):\n",
    "    pred = model.predict(X_test)\n",
    "    accu = metrics.accuracy_score(y_test,pred)\n",
    "    print(\"\\nAcuuracy Of the Model: \",accu,\"\\n\\n\")\n",
    "    total_accuracy[str((str(model).split('(')[0]))] = accu\n",
    " "
   ]
  },
  {
   "cell_type": "markdown",
   "id": "2baf98d0",
   "metadata": {},
   "source": [
    "#### FEATURE SCALING"
   ]
  },
  {
   "cell_type": "code",
   "execution_count": 197,
   "id": "29d46388",
   "metadata": {
    "scrolled": true
   },
   "outputs": [],
   "source": [
    "scaler = StandardScaler()\n",
    "scaler.fit(X_train)\n",
    "X_train = scaler.transform(X_train)\n",
    "X_test = scaler.transform(X_test)"
   ]
  },
  {
   "cell_type": "markdown",
   "id": "9995088d",
   "metadata": {},
   "source": [
    "### HYPERPARAMETER OPTIMIZATION(RANDOMIZEDSEARCHCV)"
   ]
  },
  {
   "cell_type": "markdown",
   "id": "f4abda7c",
   "metadata": {},
   "source": [
    "#### LOGISTIC REGRESSION"
   ]
  },
  {
   "cell_type": "code",
   "execution_count": 198,
   "id": "9267db62",
   "metadata": {
    "scrolled": true
   },
   "outputs": [
    {
     "name": "stdout",
     "output_type": "stream",
     "text": [
      "{'tol': 3.775717366141223e-07, 'solver': 'sag', 'max_iter': 32, 'fit_intercept': True, 'C': 0.4}\n",
      "\n",
      "\n",
      "\n",
      "Confusion Matrix:\n",
      "[[50  0]\n",
      " [ 1  0]]\n"
     ]
    },
    {
     "data": {
      "image/png": "[encoded data removed]",
      "text/plain": [
       "<Figure size 432x288 with 1 Axes>"
      ]
     },
     "metadata": {
      "needs_background": "light"
     },
     "output_type": "display_data"
    },
    {
     "name": "stdout",
     "output_type": "stream",
     "text": [
      "\n",
      "\n",
      "\n",
      "Classification Report: \n",
      "              precision    recall  f1-score   support\n",
      "\n",
      "           0       0.98      1.00      0.99        50\n",
      "           1       0.00      0.00      0.00         1\n",
      "\n",
      "    accuracy                           0.98        51\n",
      "   macro avg       0.49      0.50      0.50        51\n",
      "weighted avg       0.96      0.98      0.97        51\n",
      "\n"
     ]
    },
    {
     "data": {
      "image/png": "[encoded data removed]",
      "text/plain": [
       "<Figure size 432x288 with 1 Axes>"
      ]
     },
     "metadata": {
      "needs_background": "light"
     },
     "output_type": "display_data"
    },
    {
     "name": "stdout",
     "output_type": "stream",
     "text": [
      "\n",
      "Acuuracy Of the Model:  0.9803921568627451 \n",
      "\n",
      "\n"
     ]
    }
   ],
   "source": [
    "from sklearn.model_selection import RandomizedSearchCV\n",
    "lr_params = {'tol': list(np.logspace(np.log(1e-5), np.log(1e-2), num = 20, base = 10)),\n",
    "             'C': list(np.linspace(0.1, 2.0, 20)),\n",
    "             'fit_intercept': [True, False],\n",
    "             'solver': ['newton-cg', 'lbfgs', 'liblinear', 'sag', 'saga'],\n",
    "             'max_iter': list(range(1, 100))\n",
    "            }\n",
    "n_iter_search=50\n",
    "logreg_clf = LogisticRegression()\n",
    "logreg_rsc = RandomizedSearchCV(logreg_clf, param_distributions=lr_params,n_iter=n_iter_search,cv=5,scoring='accuracy')\n",
    "logreg_rsc.fit(X_train, y_train)      \n",
    "print(logreg_rsc.best_params_)\n",
    "report_performance(logreg_rsc)\n",
    "roc_curves(logreg_rsc)\n",
    "accuracy(logreg_rsc)"
   ]
  },
  {
   "cell_type": "markdown",
   "id": "8ef874a2",
   "metadata": {},
   "source": [
    "#### RANDOMFOREST CLASSIFIER"
   ]
  },
  {
   "cell_type": "code",
   "execution_count": 199,
   "id": "2027e04e",
   "metadata": {
    "scrolled": true
   },
   "outputs": [
    {
     "name": "stdout",
     "output_type": "stream",
     "text": [
      "{'criterion': 'entropy', 'max_depth': 42, 'max_features': 9, 'min_samples_leaf': 3, 'min_samples_split': 9, 'n_estimators': 14}\n",
      "\n",
      "\n",
      "\n",
      "Confusion Matrix:\n",
      "[[49  1]\n",
      " [ 1  0]]\n"
     ]
    },
    {
     "data": {
      "image/png": "[encoded data removed]",
      "text/plain": [
       "<Figure size 432x288 with 1 Axes>"
      ]
     },
     "metadata": {
      "needs_background": "light"
     },
     "output_type": "display_data"
    },
    {
     "name": "stdout",
     "output_type": "stream",
     "text": [
      "\n",
      "\n",
      "\n",
      "Classification Report: \n",
      "              precision    recall  f1-score   support\n",
      "\n",
      "           0       0.98      0.98      0.98        50\n",
      "           1       0.00      0.00      0.00         1\n",
      "\n",
      "    accuracy                           0.96        51\n",
      "   macro avg       0.49      0.49      0.49        51\n",
      "weighted avg       0.96      0.96      0.96        51\n",
      "\n"
     ]
    },
    {
     "data": {
      "image/png": "[encoded data removed]",
      "text/plain": [
       "<Figure size 432x288 with 1 Axes>"
      ]
     },
     "metadata": {
      "needs_background": "light"
     },
     "output_type": "display_data"
    },
    {
     "name": "stdout",
     "output_type": "stream",
     "text": [
      "\n",
      "Acuuracy Of the Model:  0.9607843137254902 \n",
      "\n",
      "\n"
     ]
    }
   ],
   "source": [
    "from scipy.stats import randint as sp_randint\n",
    "from random import randrange as sp_randrange\n",
    "from sklearn.model_selection import RandomizedSearchCV\n",
    "\n",
    "rf_params = {\n",
    "    'n_estimators': sp_randint(1,50),\n",
    "    \"max_features\":sp_randint(1,15),\n",
    "    'max_depth': sp_randint(5,50),\n",
    "    \"min_samples_split\":sp_randint(2,11),\n",
    "    \"min_samples_leaf\":sp_randint(1,11),\n",
    "    \"criterion\":['gini','entropy']\n",
    "}\n",
    "n_iter_search=50 \n",
    "rfc_clf = RandomForestClassifier(random_state=0)\n",
    "rfc_rsc = RandomizedSearchCV(rfc_clf, param_distributions=rf_params,n_iter=n_iter_search,cv=5,scoring='accuracy')\n",
    "rfc_rsc.fit(X_train, y_train)\n",
    "print(rfc_rsc.best_params_)\n",
    "report_performance(rfc_rsc)\n",
    "roc_curves(rfc_rsc)\n",
    "accuracy(rfc_rsc)\n"
   ]
  },
  {
   "cell_type": "markdown",
   "id": "1d8f6637",
   "metadata": {},
   "source": [
    "#### SVM CLASSIFIER"
   ]
  },
  {
   "cell_type": "code",
   "execution_count": 200,
   "id": "6966dbed",
   "metadata": {
    "scrolled": false
   },
   "outputs": [
    {
     "name": "stdout",
     "output_type": "stream",
     "text": [
      "{'tol': 0.0006041213373574517, 'max_iter': 93, 'kernel': 'poly', 'gamma': 'auto', 'degree': 2, 'C': 0.7}\n",
      "\n",
      "\n",
      "\n",
      "Confusion Matrix:\n",
      "[[50  0]\n",
      " [ 1  0]]\n"
     ]
    },
    {
     "data": {
      "image/png": "[encoded data removed]",
      "text/plain": [
       "<Figure size 432x288 with 1 Axes>"
      ]
     },
     "metadata": {
      "needs_background": "light"
     },
     "output_type": "display_data"
    },
    {
     "name": "stdout",
     "output_type": "stream",
     "text": [
      "\n",
      "\n",
      "\n",
      "Classification Report: \n",
      "              precision    recall  f1-score   support\n",
      "\n",
      "           0       0.98      1.00      0.99        50\n",
      "           1       0.00      0.00      0.00         1\n",
      "\n",
      "    accuracy                           0.98        51\n",
      "   macro avg       0.49      0.50      0.50        51\n",
      "weighted avg       0.96      0.98      0.97        51\n",
      "\n"
     ]
    },
    {
     "data": {
      "image/png": "[encoded data removed]",
      "text/plain": [
       "<Figure size 432x288 with 1 Axes>"
      ]
     },
     "metadata": {
      "needs_background": "light"
     },
     "output_type": "display_data"
    },
    {
     "name": "stdout",
     "output_type": "stream",
     "text": [
      "\n",
      "Acuuracy Of the Model:  0.9803921568627451 \n",
      "\n",
      "\n"
     ]
    }
   ],
   "source": [
    "from scipy.stats import randint as sp_randint\n",
    "from sklearn.model_selection import RandomizedSearchCV\n",
    "sv_params = {'C': list(np.linspace(0.1, 2.0, 20)),\n",
    "             'kernel': ['linear', 'poly', 'rbf', 'sigmoid'],\n",
    "             'degree': list(range(2, 5)),\n",
    "             'gamma': ['auto', 'scale'],\n",
    "             'tol': list(np.logspace(np.log(1e-5), np.log(1e-2), num = 10, base = 5)),\n",
    "             'max_iter': list(range(-1, 101))\n",
    "            }\n",
    "n_iter_search=50\n",
    "clf = SVC(gamma='scale')\n",
    "svm_rsc = RandomizedSearchCV(clf, param_distributions=sv_params,n_iter=n_iter_search,cv=5,scoring='accuracy')\n",
    "svm_rsc.fit(X_train, y_train)\n",
    "print(svm_rsc.best_params_)\n",
    "report_performance(svm_rsc) \n",
    "roc_curves(svm_rsc)\n",
    "accuracy(svm_rsc)"
   ]
  },
  {
   "cell_type": "markdown",
   "id": "2c037527",
   "metadata": {},
   "source": [
    "#### DECISION TREE CLASSIFIER"
   ]
  },
  {
   "cell_type": "code",
   "execution_count": 201,
   "id": "9f85b15c",
   "metadata": {
    "scrolled": false
   },
   "outputs": [
    {
     "name": "stdout",
     "output_type": "stream",
     "text": [
      "{'criterion': 'gini', 'max_depth': None, 'max_features': 'sqrt', 'min_samples_leaf': 2}\n",
      "\n",
      "\n",
      "\n",
      "Confusion Matrix:\n",
      "[[49  1]\n",
      " [ 1  0]]\n"
     ]
    },
    {
     "data": {
      "image/png": "[encoded data removed]",
      "text/plain": [
       "<Figure size 432x288 with 1 Axes>"
      ]
     },
     "metadata": {
      "needs_background": "light"
     },
     "output_type": "display_data"
    },
    {
     "name": "stdout",
     "output_type": "stream",
     "text": [
      "\n",
      "\n",
      "\n",
      "Classification Report: \n",
      "              precision    recall  f1-score   support\n",
      "\n",
      "           0       0.98      0.98      0.98        50\n",
      "           1       0.00      0.00      0.00         1\n",
      "\n",
      "    accuracy                           0.96        51\n",
      "   macro avg       0.49      0.49      0.49        51\n",
      "weighted avg       0.96      0.96      0.96        51\n",
      "\n"
     ]
    },
    {
     "data": {
      "image/png": "[encoded data removed]",
      "text/plain": [
       "<Figure size 432x288 with 1 Axes>"
      ]
     },
     "metadata": {
      "needs_background": "light"
     },
     "output_type": "display_data"
    },
    {
     "name": "stdout",
     "output_type": "stream",
     "text": [
      "\n",
      "Acuuracy Of the Model:  0.9607843137254902 \n",
      "\n",
      "\n"
     ]
    }
   ],
   "source": [
    "from scipy.stats import randint \n",
    "param_dist = {\"max_depth\": [3, None], \n",
    "\n",
    "              \"max_features\": ['auto', 'sqrt', 'log2'],\n",
    "\n",
    "              \"min_samples_leaf\": randint(1, 10), \n",
    "\n",
    "              \"criterion\": [\"gini\", \"entropy\"]} \n",
    "\n",
    "n_iter_search=50\n",
    "clf = DecisionTreeClassifier() \n",
    "dfc_rsc = RandomizedSearchCV(clf, param_distributions=param_dist,n_iter=n_iter_search,cv=5,scoring='accuracy')\n",
    "dfc_rsc.fit(X_train, y_train)\n",
    "print(dfc_rsc.best_params_)\n",
    "report_performance(dfc_rsc) \n",
    "roc_curves(dfc_rsc)\n",
    "accuracy(dfc_rsc)\n",
    "\n",
    "  "
   ]
  },
  {
   "cell_type": "markdown",
   "id": "512b371f",
   "metadata": {},
   "source": [
    "#### XGB CLASSIFIER"
   ]
  },
  {
   "cell_type": "code",
   "execution_count": 202,
   "id": "bbe875eb",
   "metadata": {
    "scrolled": false
   },
   "outputs": [
    {
     "name": "stdout",
     "output_type": "stream",
     "text": [
      "{'verbosity': 0, 'subsample': 1.0, 'min_child_weight': 20, 'max_depth': 5, 'gamma': 1.5, 'colsample_bytree': 0.6}\n",
      "\n",
      "\n",
      "\n",
      "Confusion Matrix:\n",
      "[[50  0]\n",
      " [ 1  0]]\n"
     ]
    },
    {
     "data": {
      "image/png": "[encoded data removed]",
      "text/plain": [
       "<Figure size 432x288 with 1 Axes>"
      ]
     },
     "metadata": {
      "needs_background": "light"
     },
     "output_type": "display_data"
    },
    {
     "name": "stdout",
     "output_type": "stream",
     "text": [
      "\n",
      "\n",
      "\n",
      "Classification Report: \n",
      "              precision    recall  f1-score   support\n",
      "\n",
      "           0       0.98      1.00      0.99        50\n",
      "           1       0.00      0.00      0.00         1\n",
      "\n",
      "    accuracy                           0.98        51\n",
      "   macro avg       0.49      0.50      0.50        51\n",
      "weighted avg       0.96      0.98      0.97        51\n",
      "\n"
     ]
    },
    {
     "data": {
      "image/png": "[encoded data removed]",
      "text/plain": [
       "<Figure size 432x288 with 1 Axes>"
      ]
     },
     "metadata": {
      "needs_background": "light"
     },
     "output_type": "display_data"
    },
    {
     "name": "stdout",
     "output_type": "stream",
     "text": [
      "\n",
      "Acuuracy Of the Model:  0.9803921568627451 \n",
      "\n",
      "\n"
     ]
    }
   ],
   "source": [
    "\n",
    "param_xgb = {\n",
    "        'min_child_weight': [1, 10, 20],\n",
    "        'gamma': [0.5, 1, 1.5, 2, 5],\n",
    "        'subsample': [0.6, 0.8, 1.0],\n",
    "        'colsample_bytree': [0.6, 0.8, 1.0],\n",
    "        'max_depth': [1,2,3,4,5],\n",
    "        'verbosity': [0]\n",
    "        }\n",
    "n_iter_search=50\n",
    "clf = XGBClassifier(random_state=0)\n",
    "xgb_rsc = RandomizedSearchCV(clf, param_distributions=param_xgb,n_iter=n_iter_search,cv=5,scoring='accuracy')\n",
    "xgb_rsc.fit(X_train, y_train)\n",
    "print(xgb_rsc.best_params_)\n",
    "report_performance(xgb_rsc) \n",
    "roc_curves(xgb_rsc)\n",
    "accuracy(xgb_rsc)"
   ]
  },
  {
   "cell_type": "markdown",
   "id": "a1993a7b",
   "metadata": {},
   "source": [
    "#### KNN CLASSIFIER"
   ]
  },
  {
   "cell_type": "code",
   "execution_count": 203,
   "id": "b0d1bfa0",
   "metadata": {
    "scrolled": true
   },
   "outputs": [
    {
     "name": "stdout",
     "output_type": "stream",
     "text": [
      "{'weights': 'uniform', 'n_neighbors': 1, 'leaf_size': 6, 'algorithm': 'brute'}\n",
      "\n",
      "\n",
      "\n",
      "Confusion Matrix:\n",
      "[[47  3]\n",
      " [ 1  0]]\n"
     ]
    },
    {
     "data": {
      "image/png": "[encoded data removed]",
      "text/plain": [
       "<Figure size 432x288 with 1 Axes>"
      ]
     },
     "metadata": {
      "needs_background": "light"
     },
     "output_type": "display_data"
    },
    {
     "name": "stdout",
     "output_type": "stream",
     "text": [
      "\n",
      "\n",
      "\n",
      "Classification Report: \n",
      "              precision    recall  f1-score   support\n",
      "\n",
      "           0       0.98      0.94      0.96        50\n",
      "           1       0.00      0.00      0.00         1\n",
      "\n",
      "    accuracy                           0.92        51\n",
      "   macro avg       0.49      0.47      0.48        51\n",
      "weighted avg       0.96      0.92      0.94        51\n",
      "\n"
     ]
    },
    {
     "data": {
      "image/png": "[encoded data removed]",
      "text/plain": [
       "<Figure size 432x288 with 1 Axes>"
      ]
     },
     "metadata": {
      "needs_background": "light"
     },
     "output_type": "display_data"
    },
    {
     "name": "stdout",
     "output_type": "stream",
     "text": [
      "\n",
      "Acuuracy Of the Model:  0.9215686274509803 \n",
      "\n",
      "\n"
     ]
    }
   ],
   "source": [
    "param_knn = {\n",
    "    'n_neighbors': range(1,40),\n",
    "    'leaf_size': range(1,30),\n",
    "    'weights': ['uniform', 'distance'],\n",
    "    'algorithm':['auto', 'ball_tree', 'kd_tree', 'brute']\n",
    "}\n",
    "n_iter_search=50\n",
    "clf = KNeighborsClassifier()\n",
    "knn_rsc = RandomizedSearchCV(clf, param_distributions=param_knn,n_iter=n_iter_search,cv=5,scoring='accuracy')\n",
    "knn_rsc.fit(X_train, y_train)\n",
    "print(knn_rsc.best_params_)\n",
    "report_performance(knn_rsc) \n",
    "roc_curves(knn_rsc)\n",
    "accuracy(knn_rsc)\n"
   ]
  },
  {
   "cell_type": "markdown",
   "id": "48145252",
   "metadata": {},
   "source": [
    "#### NAIVE BAYAS CLASSIFIER"
   ]
  },
  {
   "cell_type": "code",
   "execution_count": 213,
   "id": "d5c680f9",
   "metadata": {
    "scrolled": false
   },
   "outputs": [
    {
     "name": "stdout",
     "output_type": "stream",
     "text": [
      "{'var_smoothing': 0.8111308307896871}\n",
      "\n",
      "\n",
      "\n",
      "Confusion Matrix:\n",
      "[[49  1]\n",
      " [ 1  0]]\n"
     ]
    },
    {
     "data": {
      "image/png": "[encoded data removed]",
      "text/plain": [
       "<Figure size 432x288 with 1 Axes>"
      ]
     },
     "metadata": {
      "needs_background": "light"
     },
     "output_type": "display_data"
    },
    {
     "name": "stdout",
     "output_type": "stream",
     "text": [
      "\n",
      "\n",
      "\n",
      "Classification Report: \n",
      "              precision    recall  f1-score   support\n",
      "\n",
      "           0       0.98      0.98      0.98        50\n",
      "           1       0.00      0.00      0.00         1\n",
      "\n",
      "    accuracy                           0.96        51\n",
      "   macro avg       0.49      0.49      0.49        51\n",
      "weighted avg       0.96      0.96      0.96        51\n",
      "\n"
     ]
    },
    {
     "data": {
      "image/png": "[encoded data removed]",
      "text/plain": [
       "<Figure size 432x288 with 1 Axes>"
      ]
     },
     "metadata": {
      "needs_background": "light"
     },
     "output_type": "display_data"
    },
    {
     "name": "stdout",
     "output_type": "stream",
     "text": [
      "\n",
      "Acuuracy Of the Model:  0.9607843137254902 \n",
      "\n",
      "\n"
     ]
    }
   ],
   "source": [
    "param_nb= {\n",
    "    'var_smoothing': np.logspace(0,-9, num=100)\n",
    "}\n",
    "n_iter_search=50\n",
    "clf = GaussianNB()\n",
    "nb_rsc = RandomizedSearchCV(clf, param_distributions=param_nb,n_iter=n_iter_search,cv=5,scoring='accuracy')\n",
    "nb_rsc.fit(X_train, y_train)\n",
    "print(nb_rsc.best_params_)\n",
    "report_performance(nb_rsc) \n",
    "roc_curves(nb_rsc)\n",
    "accuracy(nb_rsc)\n"
   ]
  },
  {
   "cell_type": "markdown",
   "id": "40b13bda",
   "metadata": {},
   "source": [
    "#### EXTRA TREE CLASSIFIER"
   ]
  },
  {
   "cell_type": "code",
   "execution_count": 205,
   "id": "95cf9848",
   "metadata": {
    "scrolled": false
   },
   "outputs": [
    {
     "name": "stdout",
     "output_type": "stream",
     "text": [
      "{'criterion': 'gini', 'max_depth': 9, 'min_samples_leaf': 18, 'min_samples_split': 4, 'n_estimators': 68}\n",
      "\n",
      "\n",
      "\n",
      "Confusion Matrix:\n",
      "[[50  0]\n",
      " [ 1  0]]\n"
     ]
    },
    {
     "data": {
      "image/png": "[encoded data removed]",
      "text/plain": [
       "<Figure size 432x288 with 1 Axes>"
      ]
     },
     "metadata": {
      "needs_background": "light"
     },
     "output_type": "display_data"
    },
    {
     "name": "stdout",
     "output_type": "stream",
     "text": [
      "\n",
      "\n",
      "\n",
      "Classification Report: \n",
      "              precision    recall  f1-score   support\n",
      "\n",
      "           0       0.98      1.00      0.99        50\n",
      "           1       0.00      0.00      0.00         1\n",
      "\n",
      "    accuracy                           0.98        51\n",
      "   macro avg       0.49      0.50      0.50        51\n",
      "weighted avg       0.96      0.98      0.97        51\n",
      "\n"
     ]
    },
    {
     "data": {
      "image/png": "[encoded data removed]",
      "text/plain": [
       "<Figure size 432x288 with 1 Axes>"
      ]
     },
     "metadata": {
      "needs_background": "light"
     },
     "output_type": "display_data"
    },
    {
     "name": "stdout",
     "output_type": "stream",
     "text": [
      "\n",
      "Acuuracy Of the Model:  0.9803921568627451 \n",
      "\n",
      "\n"
     ]
    }
   ],
   "source": [
    "param_etc={\n",
    "           'n_estimators': sp_randint(1,100),\n",
    "   \n",
    "    'max_depth': sp_randint(5,10),\n",
    "    'min_samples_split':sp_randint(2,20),\n",
    "    'min_samples_leaf':sp_randint(4,20),\n",
    "    'criterion':['gini','entropy'],\n",
    "    \n",
    "    \n",
    "}\n",
    "n_iter_search=50\n",
    "etc_clf =ExtraTreesClassifier()\n",
    "etc_rsc = RandomizedSearchCV(etc_clf, param_distributions=param_etc,n_iter=n_iter_search,cv=5,scoring='accuracy')\n",
    "etc_rsc.fit(X_train, y_train)\n",
    "print(etc_rsc.best_params_)\n",
    "report_performance(etc_rsc) \n",
    "roc_curves(etc_rsc)\n",
    "accuracy(etc_rsc)"
   ]
  },
  {
   "cell_type": "markdown",
   "id": "4d6842aa",
   "metadata": {},
   "source": [
    "#### GRADIENTBOOSTING CLASSIFIER"
   ]
  },
  {
   "cell_type": "code",
   "execution_count": 206,
   "id": "76ab6156",
   "metadata": {
    "scrolled": false
   },
   "outputs": [
    {
     "name": "stdout",
     "output_type": "stream",
     "text": [
      "{'min_samples_split': 10, 'min_samples_leaf': 30}\n",
      "\n",
      "\n",
      "\n",
      "Confusion Matrix:\n",
      "[[50  0]\n",
      " [ 1  0]]\n"
     ]
    },
    {
     "data": {
      "image/png": "[encoded data removed]",
      "text/plain": [
       "<Figure size 432x288 with 1 Axes>"
      ]
     },
     "metadata": {
      "needs_background": "light"
     },
     "output_type": "display_data"
    },
    {
     "name": "stdout",
     "output_type": "stream",
     "text": [
      "\n",
      "\n",
      "\n",
      "Classification Report: \n",
      "              precision    recall  f1-score   support\n",
      "\n",
      "           0       0.98      1.00      0.99        50\n",
      "           1       0.00      0.00      0.00         1\n",
      "\n",
      "    accuracy                           0.98        51\n",
      "   macro avg       0.49      0.50      0.50        51\n",
      "weighted avg       0.96      0.98      0.97        51\n",
      "\n"
     ]
    },
    {
     "data": {
      "image/png": "[encoded data removed]",
      "text/plain": [
       "<Figure size 432x288 with 1 Axes>"
      ]
     },
     "metadata": {
      "needs_background": "light"
     },
     "output_type": "display_data"
    },
    {
     "name": "stdout",
     "output_type": "stream",
     "text": [
      "\n",
      "Acuuracy Of the Model:  0.9803921568627451 \n",
      "\n",
      "\n"
     ]
    }
   ],
   "source": [
    "param_gb = {'min_samples_split':range(10,100,20), \n",
    "               'min_samples_leaf':range(30,71,10)\n",
    "              }\n",
    "\n",
    "n_iter_search=50\n",
    "clf = GradientBoostingClassifier(learning_rate=0.1, n_estimators=60,max_depth=9,max_features='sqrt', subsample=0.8, random_state=10)\n",
    "gbc_rsc = RandomizedSearchCV(clf, param_distributions=param_gb,n_iter=n_iter_search,cv=5,scoring='accuracy')\n",
    "gbc_rsc.fit(X_train, y_train)\n",
    "print(gbc_rsc.best_params_)\n",
    "report_performance(gbc_rsc) \n",
    "roc_curves(gbc_rsc)\n",
    "accuracy(gbc_rsc)"
   ]
  },
  {
   "cell_type": "markdown",
   "id": "f3336697",
   "metadata": {},
   "source": [
    "#### ADABOOST CLASSIFIER"
   ]
  },
  {
   "cell_type": "code",
   "execution_count": 207,
   "id": "69b96ad5",
   "metadata": {
    "scrolled": false
   },
   "outputs": [
    {
     "name": "stdout",
     "output_type": "stream",
     "text": [
      "{'n_estimators': 47, 'learning_rate': 0.67, 'base_estimator__max_features': 'auto'}\n",
      "\n",
      "\n",
      "\n",
      "Confusion Matrix:\n",
      "[[49  1]\n",
      " [ 1  0]]\n"
     ]
    },
    {
     "data": {
      "image/png": "[encoded data removed]",
      "text/plain": [
       "<Figure size 432x288 with 1 Axes>"
      ]
     },
     "metadata": {
      "needs_background": "light"
     },
     "output_type": "display_data"
    },
    {
     "name": "stdout",
     "output_type": "stream",
     "text": [
      "\n",
      "\n",
      "\n",
      "Classification Report: \n",
      "              precision    recall  f1-score   support\n",
      "\n",
      "           0       0.98      0.98      0.98        50\n",
      "           1       0.00      0.00      0.00         1\n",
      "\n",
      "    accuracy                           0.96        51\n",
      "   macro avg       0.49      0.49      0.49        51\n",
      "weighted avg       0.96      0.96      0.96        51\n",
      "\n"
     ]
    },
    {
     "data": {
      "image/png": "[encoded data removed]",
      "text/plain": [
       "<Figure size 432x288 with 1 Axes>"
      ]
     },
     "metadata": {
      "needs_background": "light"
     },
     "output_type": "display_data"
    },
    {
     "name": "stdout",
     "output_type": "stream",
     "text": [
      "\n",
      "Acuuracy Of the Model:  0.9607843137254902 \n",
      "\n",
      "\n"
     ]
    }
   ],
   "source": [
    "stump_clf =  DecisionTreeClassifier(random_state=42, max_depth=5)\n",
    "param_ad = {\n",
    "              \"base_estimator__max_features\": ['auto', 'sqrt', 'log2'],\n",
    "              \"n_estimators\": list(range(1,50)),\n",
    "              \"learning_rate\": np.linspace(0.01, 1, num=10),\n",
    "             }\n",
    "n_iter_search=10\n",
    "clf = AdaBoostClassifier(base_estimator = stump_clf)\n",
    "abc_rsc = RandomizedSearchCV(clf, param_distributions=param_ad,n_iter=n_iter_search,cv=5,scoring='accuracy')\n",
    "abc_rsc.fit(X_train, y_train)\n",
    "print(abc_rsc.best_params_)\n",
    "report_performance(abc_rsc) \n",
    "roc_curves(abc_rsc)\n",
    "accuracy(abc_rsc)\n",
    "\n"
   ]
  }
 ],
 "metadata": {
  "kernelspec": {
   "display_name": "Python 3",
   "language": "python",
   "name": "python3"
  },
  "language_info": {
   "codemirror_mode": {
    "name": "ipython",
    "version": 3
   },
   "file_extension": ".py",
   "mimetype": "text/x-python",
   "name": "python",
   "nbconvert_exporter": "python",
   "pygments_lexer": "ipython3",
   "version": "3.8.8"
  }
 },
 "nbformat": 4,
 "nbformat_minor": 5
}
